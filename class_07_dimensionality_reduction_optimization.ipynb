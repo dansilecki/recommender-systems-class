{
 "cells": [
  {
   "cell_type": "markdown",
   "id": "downtown-trading",
   "metadata": {},
   "source": [
    "# Dimensionality reduction and optimization"
   ]
  },
  {
   "cell_type": "code",
   "execution_count": 1,
   "id": "verified-accommodation",
   "metadata": {},
   "outputs": [],
   "source": [
    "%matplotlib inline\n",
    "%load_ext autoreload\n",
    "%autoreload 2\n",
    "\n",
    "import numpy as np\n",
    "import pandas as pd\n",
    "import matplotlib.pyplot as plt\n",
    "import seaborn as sns\n",
    "from IPython.display import Markdown, display, HTML\n",
    "from collections import defaultdict\n",
    "\n",
    "np.set_printoptions(edgeitems=10, linewidth=500)\n",
    "\n",
    "# Fix the dying kernel problem (only a problem in some installations - you can remove it, if it works without it)\n",
    "import os\n",
    "os.environ['KMP_DUPLICATE_LIB_OK'] = 'True'"
   ]
  },
  {
   "cell_type": "markdown",
   "id": "educated-tourist",
   "metadata": {},
   "source": [
    "## Load data"
   ]
  },
  {
   "cell_type": "code",
   "execution_count": 2,
   "id": "rough-editing",
   "metadata": {},
   "outputs": [],
   "source": [
    "seed = 6779\n",
    "rng = np.random.RandomState(seed)"
   ]
  },
  {
   "cell_type": "code",
   "execution_count": 3,
   "id": "looking-feeling",
   "metadata": {},
   "outputs": [
    {
     "data": {
      "text/html": [
       "<div>\n",
       "<style scoped>\n",
       "    .dataframe tbody tr th:only-of-type {\n",
       "        vertical-align: middle;\n",
       "    }\n",
       "\n",
       "    .dataframe tbody tr th {\n",
       "        vertical-align: top;\n",
       "    }\n",
       "\n",
       "    .dataframe thead th {\n",
       "        text-align: right;\n",
       "    }\n",
       "</style>\n",
       "<table border=\"1\" class=\"dataframe\">\n",
       "  <thead>\n",
       "    <tr style=\"text-align: right;\">\n",
       "      <th></th>\n",
       "      <th>item_id</th>\n",
       "      <th>title</th>\n",
       "      <th>genres</th>\n",
       "    </tr>\n",
       "  </thead>\n",
       "  <tbody>\n",
       "    <tr>\n",
       "      <th>0</th>\n",
       "      <td>1</td>\n",
       "      <td>Toy Story (1995)</td>\n",
       "      <td>Adventure|Animation|Children|Comedy|Fantasy</td>\n",
       "    </tr>\n",
       "    <tr>\n",
       "      <th>277</th>\n",
       "      <td>318</td>\n",
       "      <td>Shawshank Redemption, The (1994)</td>\n",
       "      <td>Crime|Drama</td>\n",
       "    </tr>\n",
       "    <tr>\n",
       "      <th>896</th>\n",
       "      <td>1193</td>\n",
       "      <td>One Flew Over the Cuckoo's Nest (1975)</td>\n",
       "      <td>Drama</td>\n",
       "    </tr>\n",
       "    <tr>\n",
       "      <th>909</th>\n",
       "      <td>1208</td>\n",
       "      <td>Apocalypse Now (1979)</td>\n",
       "      <td>Action|Drama|War</td>\n",
       "    </tr>\n",
       "    <tr>\n",
       "      <th>915</th>\n",
       "      <td>1214</td>\n",
       "      <td>Alien (1979)</td>\n",
       "      <td>Horror|Sci-Fi</td>\n",
       "    </tr>\n",
       "    <tr>\n",
       "      <th>1291</th>\n",
       "      <td>1721</td>\n",
       "      <td>Titanic (1997)</td>\n",
       "      <td>Drama|Romance</td>\n",
       "    </tr>\n",
       "    <tr>\n",
       "      <th>2226</th>\n",
       "      <td>2959</td>\n",
       "      <td>Fight Club (1999)</td>\n",
       "      <td>Action|Crime|Drama|Thriller</td>\n",
       "    </tr>\n",
       "    <tr>\n",
       "      <th>2674</th>\n",
       "      <td>3578</td>\n",
       "      <td>Gladiator (2000)</td>\n",
       "      <td>Action|Adventure|Drama</td>\n",
       "    </tr>\n",
       "    <tr>\n",
       "      <th>3194</th>\n",
       "      <td>4306</td>\n",
       "      <td>Shrek (2001)</td>\n",
       "      <td>Adventure|Animation|Children|Comedy|Fantasy|Ro...</td>\n",
       "    </tr>\n",
       "    <tr>\n",
       "      <th>8376</th>\n",
       "      <td>109487</td>\n",
       "      <td>Interstellar (2014)</td>\n",
       "      <td>Sci-Fi|IMAX</td>\n",
       "    </tr>\n",
       "  </tbody>\n",
       "</table>\n",
       "</div>"
      ],
      "text/plain": [
       "      item_id                                   title  \\\n",
       "0           1                        Toy Story (1995)   \n",
       "277       318        Shawshank Redemption, The (1994)   \n",
       "896      1193  One Flew Over the Cuckoo's Nest (1975)   \n",
       "909      1208                   Apocalypse Now (1979)   \n",
       "915      1214                            Alien (1979)   \n",
       "1291     1721                          Titanic (1997)   \n",
       "2226     2959                       Fight Club (1999)   \n",
       "2674     3578                        Gladiator (2000)   \n",
       "3194     4306                            Shrek (2001)   \n",
       "8376   109487                     Interstellar (2014)   \n",
       "\n",
       "                                                 genres  \n",
       "0           Adventure|Animation|Children|Comedy|Fantasy  \n",
       "277                                         Crime|Drama  \n",
       "896                                               Drama  \n",
       "909                                    Action|Drama|War  \n",
       "915                                       Horror|Sci-Fi  \n",
       "1291                                      Drama|Romance  \n",
       "2226                        Action|Crime|Drama|Thriller  \n",
       "2674                             Action|Adventure|Drama  \n",
       "3194  Adventure|Animation|Children|Comedy|Fantasy|Ro...  \n",
       "8376                                        Sci-Fi|IMAX  "
      ]
     },
     "metadata": {},
     "output_type": "display_data"
    },
    {
     "name": "stdout",
     "output_type": "stream",
     "text": [
      "Number of interactions left: 1689\n"
     ]
    }
   ],
   "source": [
    "ml_ratings_df = pd.read_csv(os.path.join(\"data\", \"movielens_small\", \"ratings.csv\")).rename(columns={'userId': 'user_id', 'movieId': 'item_id'})\n",
    "ml_movies_df = pd.read_csv(os.path.join(\"data\", \"movielens_small\", \"movies.csv\")).rename(columns={'movieId': 'item_id'})\n",
    "ml_df = pd.merge(ml_ratings_df, ml_movies_df, on='item_id')\n",
    "\n",
    "# Filter the data to reduce the number of movies\n",
    "left_ids = [1, 318, 1193, 1208, 1214, 1721, 2959, 3578, 4306, 109487]\n",
    "\n",
    "ml_ratings_df = ml_ratings_df.loc[ml_ratings_df['item_id'].isin(left_ids)]\n",
    "ml_movies_df = ml_movies_df.loc[ml_movies_df['item_id'].isin(left_ids)]\n",
    "ml_df = ml_df.loc[ml_df['item_id'].isin(left_ids)]\n",
    "\n",
    "display(ml_movies_df)\n",
    "\n",
    "print(\"Number of interactions left: {}\".format(len(ml_ratings_df)))"
   ]
  },
  {
   "cell_type": "markdown",
   "id": "plastic-brooklyn",
   "metadata": {},
   "source": [
    "## Shift item ids and user ids so that they are consecutive"
   ]
  },
  {
   "cell_type": "code",
   "execution_count": 4,
   "id": "valuable-modem",
   "metadata": {},
   "outputs": [
    {
     "data": {
      "text/html": [
       "<div>\n",
       "<style scoped>\n",
       "    .dataframe tbody tr th:only-of-type {\n",
       "        vertical-align: middle;\n",
       "    }\n",
       "\n",
       "    .dataframe tbody tr th {\n",
       "        vertical-align: top;\n",
       "    }\n",
       "\n",
       "    .dataframe thead th {\n",
       "        text-align: right;\n",
       "    }\n",
       "</style>\n",
       "<table border=\"1\" class=\"dataframe\">\n",
       "  <thead>\n",
       "    <tr style=\"text-align: right;\">\n",
       "      <th></th>\n",
       "      <th>user_id</th>\n",
       "      <th>item_id</th>\n",
       "      <th>rating</th>\n",
       "      <th>timestamp</th>\n",
       "    </tr>\n",
       "  </thead>\n",
       "  <tbody>\n",
       "    <tr>\n",
       "      <th>0</th>\n",
       "      <td>0</td>\n",
       "      <td>0</td>\n",
       "      <td>4.0</td>\n",
       "      <td>964982703</td>\n",
       "    </tr>\n",
       "    <tr>\n",
       "      <th>72</th>\n",
       "      <td>0</td>\n",
       "      <td>1</td>\n",
       "      <td>4.0</td>\n",
       "      <td>964983250</td>\n",
       "    </tr>\n",
       "    <tr>\n",
       "      <th>75</th>\n",
       "      <td>0</td>\n",
       "      <td>2</td>\n",
       "      <td>4.0</td>\n",
       "      <td>964981855</td>\n",
       "    </tr>\n",
       "    <tr>\n",
       "      <th>192</th>\n",
       "      <td>0</td>\n",
       "      <td>3</td>\n",
       "      <td>5.0</td>\n",
       "      <td>964983282</td>\n",
       "    </tr>\n",
       "    <tr>\n",
       "      <th>219</th>\n",
       "      <td>0</td>\n",
       "      <td>4</td>\n",
       "      <td>5.0</td>\n",
       "      <td>964980668</td>\n",
       "    </tr>\n",
       "    <tr>\n",
       "      <th>232</th>\n",
       "      <td>1</td>\n",
       "      <td>5</td>\n",
       "      <td>3.0</td>\n",
       "      <td>1445714835</td>\n",
       "    </tr>\n",
       "    <tr>\n",
       "      <th>235</th>\n",
       "      <td>1</td>\n",
       "      <td>4</td>\n",
       "      <td>4.0</td>\n",
       "      <td>1445714885</td>\n",
       "    </tr>\n",
       "    <tr>\n",
       "      <th>255</th>\n",
       "      <td>1</td>\n",
       "      <td>6</td>\n",
       "      <td>3.0</td>\n",
       "      <td>1445715145</td>\n",
       "    </tr>\n",
       "    <tr>\n",
       "      <th>458</th>\n",
       "      <td>2</td>\n",
       "      <td>3</td>\n",
       "      <td>2.0</td>\n",
       "      <td>945078528</td>\n",
       "    </tr>\n",
       "    <tr>\n",
       "      <th>516</th>\n",
       "      <td>3</td>\n",
       "      <td>0</td>\n",
       "      <td>4.0</td>\n",
       "      <td>847434962</td>\n",
       "    </tr>\n",
       "  </tbody>\n",
       "</table>\n",
       "</div>"
      ],
      "text/plain": [
       "     user_id  item_id  rating   timestamp\n",
       "0          0        0     4.0   964982703\n",
       "72         0        1     4.0   964983250\n",
       "75         0        2     4.0   964981855\n",
       "192        0        3     5.0   964983282\n",
       "219        0        4     5.0   964980668\n",
       "232        1        5     3.0  1445714835\n",
       "235        1        4     4.0  1445714885\n",
       "255        1        6     3.0  1445715145\n",
       "458        2        3     2.0   945078528\n",
       "516        3        0     4.0   847434962"
      ]
     },
     "metadata": {},
     "output_type": "display_data"
    }
   ],
   "source": [
    "interactions_df = ml_ratings_df.copy()\n",
    "\n",
    "unique_item_ids = interactions_df['item_id'].unique()\n",
    "item_id_mapping = dict(zip(unique_item_ids, list(range(len(unique_item_ids)))))\n",
    "item_id_reverse_mapping = dict(zip(list(range(len(unique_item_ids))), unique_item_ids))\n",
    "unique_user_ids = interactions_df['user_id'].unique()\n",
    "user_id_mapping = dict(zip(unique_user_ids, list(range(len(unique_user_ids)))))\n",
    "user_id_reverse_mapping = dict(zip(list(range(len(unique_user_ids))), unique_user_ids))\n",
    "\n",
    "interactions_df.replace({'item_id': item_id_mapping, 'user_id': user_id_mapping}, inplace=True)\n",
    "\n",
    "display(interactions_df.head(10))"
   ]
  },
  {
   "cell_type": "markdown",
   "id": "basic-meeting",
   "metadata": {},
   "source": [
    "## Get the number of items and users"
   ]
  },
  {
   "cell_type": "code",
   "execution_count": 5,
   "id": "close-massachusetts",
   "metadata": {},
   "outputs": [
    {
     "name": "stdout",
     "output_type": "stream",
     "text": [
      "n_items=10\n",
      "n_users=521\n"
     ]
    }
   ],
   "source": [
    "n_items = np.max(interactions_df['item_id']) + 1\n",
    "n_users = np.max(interactions_df['user_id']) + 1\n",
    "\n",
    "print(\"n_items={}\\nn_users={}\".format(n_items, n_users))"
   ]
  },
  {
   "cell_type": "markdown",
   "id": "acknowledged-threshold",
   "metadata": {},
   "source": [
    "## Get the user-item interaction matrix"
   ]
  },
  {
   "cell_type": "code",
   "execution_count": 6,
   "id": "extraordinary-mexico",
   "metadata": {},
   "outputs": [
    {
     "name": "stdout",
     "output_type": "stream",
     "text": [
      "[[1. 1. 1. 1. 1. 0. 0. 0. 0. 0.]\n",
      " [0. 0. 0. 0. 1. 1. 1. 0. 0. 0.]\n",
      " [0. 0. 0. 1. 0. 0. 0. 0. 0. 0.]\n",
      " [1. 0. 0. 0. 0. 1. 0. 0. 0. 0.]\n",
      " [0. 0. 0. 0. 0. 1. 0. 0. 0. 0.]\n",
      " [1. 1. 0. 0. 1. 0. 0. 1. 0. 0.]\n",
      " [0. 0. 0. 0. 0. 1. 0. 0. 0. 0.]\n",
      " [0. 0. 0. 1. 1. 0. 1. 1. 0. 0.]\n",
      " [0. 0. 0. 0. 0. 1. 0. 0. 1. 0.]\n",
      " [0. 0. 0. 0. 0. 0. 0. 0. 1. 0.]\n",
      " ...\n",
      " [1. 0. 0. 1. 1. 1. 1. 1. 1. 1.]\n",
      " [0. 0. 0. 0. 0. 1. 0. 0. 0. 0.]\n",
      " [1. 1. 1. 1. 1. 0. 0. 0. 1. 1.]\n",
      " [1. 0. 0. 0. 0. 0. 0. 0. 0. 0.]\n",
      " [1. 0. 0. 0. 0. 0. 0. 1. 0. 0.]\n",
      " [1. 1. 1. 1. 1. 1. 0. 1. 1. 1.]\n",
      " [1. 0. 1. 0. 0. 1. 0. 0. 0. 0.]\n",
      " [1. 1. 1. 1. 1. 1. 0. 1. 1. 1.]\n",
      " [1. 0. 0. 0. 0. 1. 0. 0. 0. 0.]\n",
      " [1. 1. 1. 1. 1. 1. 1. 1. 1. 0.]]\n"
     ]
    }
   ],
   "source": [
    "# mapping to int is necessary because of how iterrows works\n",
    "r = np.zeros(shape=(n_users, n_items))\n",
    "for idx, interaction in interactions_df.iterrows():\n",
    "    r[int(interaction['user_id'])][int(interaction['item_id'])] = 1\n",
    "    \n",
    "print(r)"
   ]
  },
  {
   "cell_type": "markdown",
   "id": "lovely-password",
   "metadata": {},
   "source": [
    "# Dimensionality reduction"
   ]
  },
  {
   "cell_type": "markdown",
   "id": "alien-performance",
   "metadata": {},
   "source": [
    "## PCA (Principal Component Analysis)"
   ]
  },
  {
   "cell_type": "markdown",
   "id": "friendly-necklace",
   "metadata": {},
   "source": [
    "**Task 1.** Apply PCA (Principal Component Analysis) to the rows (user representations) of the interaction matrix into two dimensions. Use sklearn.decomposition.PCA. Set the transformed rows to the pca_reduced_r variable."
   ]
  },
  {
   "cell_type": "code",
   "execution_count": 31,
   "id": "rubber-detector",
   "metadata": {},
   "outputs": [],
   "source": [
    "# Write your code here\n",
    "from sklearn.decomposition import PCA\n",
    "\n",
    "pca = PCA(n_components=2)\n",
    "pca_reduced_r = pca.fit_transform(r)"
   ]
  },
  {
   "cell_type": "markdown",
   "id": "speaking-aberdeen",
   "metadata": {},
   "source": [
    "### Plot the reduced data"
   ]
  },
  {
   "cell_type": "code",
   "execution_count": 32,
   "id": "emotional-colors",
   "metadata": {},
   "outputs": [],
   "source": [
    "def plot_unique_datapoints_2d(data, tolerance=0.000001):\n",
    "    \n",
    "    max_value = np.max(np.abs(data))\n",
    "    \n",
    "    # Round the data so that points closer than tolerance are mapped into the same coordinates\n",
    "    \n",
    "    rounded_data = np.round(data, int(np.log10(1 / tolerance)))\n",
    "    \n",
    "    # Choose the first representative from each group mapped into the same coordinates\n",
    "    \n",
    "    unique_representations, indices = np.unique(rounded_data, return_index=True, axis=0)\n",
    "    \n",
    "    # Plot\n",
    "\n",
    "    fig = plt.figure(tight_layout=True)\n",
    "    fig.set_size_inches(16, 9)\n",
    "    ax1 = fig.add_subplot(1, 1, 1)\n",
    "\n",
    "    sns.scatterplot(x=data[indices, 0], y=data[indices, 1], ax=ax1)\n",
    "\n",
    "    for i in indices:\n",
    "        plt.text(x=data[i, 0] + max_value / 150, y=data[i, 1] + max_value / 150, s=i, \n",
    "                 fontdict=dict(color='red', size=8))\n",
    "\n",
    "    plt.show()"
   ]
  },
  {
   "cell_type": "code",
   "execution_count": 33,
   "id": "neural-moses",
   "metadata": {},
   "outputs": [
    {
     "data": {
      "image/png": "[encoded data removed]",
      "text/plain": [
       "<Figure size 1152x648 with 1 Axes>"
      ]
     },
     "metadata": {
      "needs_background": "light"
     },
     "output_type": "display_data"
    }
   ],
   "source": [
    "plot_unique_datapoints_2d(pca_reduced_r, tolerance=0.1)"
   ]
  },
  {
   "cell_type": "markdown",
   "id": "unusual-birmingham",
   "metadata": {},
   "source": [
    "### Print representations for chosen pairs of users close on the graph\n",
    "\n",
    "Notice that their initial represenation in the interaction matrix was also similar."
   ]
  },
  {
   "cell_type": "code",
   "execution_count": 34,
   "id": "virtual-affiliate",
   "metadata": {},
   "outputs": [],
   "source": [
    "def print_representations(chosen_user_id_groups, representations, reduced_representations):\n",
    "    for user_id_group in chosen_user_id_groups:\n",
    "        for user_id in user_id_group:\n",
    "            print(\"User {} full representation and reduced representation\".format(user_id))\n",
    "            print(representations[user_id])\n",
    "            print(reduced_representations[user_id])\n",
    "            print()\n",
    "        print(\"==============================\")"
   ]
  },
  {
   "cell_type": "code",
   "execution_count": 35,
   "id": "duplicate-approval",
   "metadata": {},
   "outputs": [
    {
     "name": "stdout",
     "output_type": "stream",
     "text": [
      "User 0 full representation and reduced representation\n",
      "[1. 1. 1. 1. 1. 0. 0. 0. 0. 0.]\n",
      "[0.71220087 0.59638113]\n",
      "\n",
      "User 16 full representation and reduced representation\n",
      "[1. 0. 1. 1. 1. 0. 0. 0. 0. 1.]\n",
      "[0.75940893 0.48017106]\n",
      "\n",
      "==============================\n",
      "User 133 full representation and reduced representation\n",
      "[0. 0. 0. 0. 0. 0. 1. 0. 0. 0.]\n",
      "[-0.86837121  0.209291  ]\n",
      "\n",
      "User 52 full representation and reduced representation\n",
      "[0. 1. 0. 0. 0. 0. 0. 0. 0. 0.]\n",
      "[-0.73578375  0.28942663]\n",
      "\n",
      "==============================\n",
      "User 75 full representation and reduced representation\n",
      "[1. 0. 1. 0. 1. 0. 0. 1. 1. 0.]\n",
      "[0.74855292 1.3185605 ]\n",
      "\n",
      "User 159 full representation and reduced representation\n",
      "[1. 0. 1. 0. 1. 0. 0. 1. 0. 1.]\n",
      "[0.71896426 1.02657416]\n",
      "\n",
      "==============================\n",
      "User 279 full representation and reduced representation\n",
      "[0. 0. 0. 1. 1. 1. 1. 0. 0. 1.]\n",
      "[ 0.44354981 -0.95868608]\n",
      "\n",
      "User 346 full representation and reduced representation\n",
      "[0. 0. 0. 1. 1. 1. 0. 0. 0. 1.]\n",
      "[ 0.32812798 -0.8813742 ]\n",
      "\n",
      "==============================\n",
      "User 15 full representation and reduced representation\n",
      "[1. 1. 1. 1. 1. 1. 1. 1. 1. 1.]\n",
      "[2.01569206 0.01857922]\n",
      "\n",
      "User 61 full representation and reduced representation\n",
      "[1. 1. 1. 1. 1. 1. 0. 1. 1. 1.]\n",
      "[1.90027024 0.09589109]\n",
      "\n",
      "==============================\n"
     ]
    }
   ],
   "source": [
    "chosen_user_ids = [(0, 16), (133, 52), (75, 159), (279, 346), (15, 61)]\n",
    "print_representations(chosen_user_ids, r, pca_reduced_r)"
   ]
  },
  {
   "cell_type": "markdown",
   "id": "exempt-barcelona",
   "metadata": {},
   "source": [
    "### Topology of distant datapoints"
   ]
  },
  {
   "cell_type": "markdown",
   "id": "disturbed-extraction",
   "metadata": {},
   "source": [
    "**Task 2.** Write a method which returns a pair of indices of datapoints with the highest discrepancy between the distance in the reduced space and the original distance measured as:\n",
    "\n",
    "<center>\n",
    "$$\n",
    "    \\frac{d(x_{reduced}, y_{reduced})}{\\text{max}(d(x, y), 0.001)}\n",
    "$$\n",
    "</center>\n",
    "\n",
    "where $d$ is the Euclidean distance. The interface for the method:\n",
    "\n",
    "    find_poorest_reduction(orig_data, reduced_data)\n",
    "\n",
    "Find the pair of user ids with the highest discrepancy for the PCA reduction and set those ids to pca_user_id_1 and pca_user_id_2.\n",
    "\n",
    "You can a loop over all pairs."
   ]
  },
  {
   "cell_type": "code",
   "execution_count": 56,
   "id": "biblical-penalty",
   "metadata": {},
   "outputs": [
    {
     "name": "stdout",
     "output_type": "stream",
     "text": [
      "[[ 0.86290053 -0.4898358  -0.43837623 -0.38518855 -0.85096314  0.82780576 -0.85096314  0.31116837 -0.51312233 -0.1918929  ...  0.93618694 -0.85096314  1.34337393 -0.06395911  0.32445814  1.41056175 -0.05303401  1.41056175 -0.38518855  1.30402534]\n",
      " [-0.4898358   0.30646774  0.20223584  0.15909398  0.45224731 -0.5570509   0.45224731 -0.14214227  0.27253524 -0.02249013 ... -0.35435313  0.45224731 -0.70391871 -0.13593139 -0.33452993 -0.60749187 -0.01730336 -0.60749187  0.15909398 -0.5711318 ]\n",
      " [-0.43837623  0.20223584  0.29919716  0.2934254   0.48287267 -0.27756002  0.48287267 -0.21468808  0.29143885  0.31314039 ... -0.76619375  0.48287267 -0.77873309  0.31512695  0.08187854 -1.03368304  0.10473784 -1.03368304  0.2934254  -0.93998572]\n",
      " [-0.38518855  0.15909398  0.2934254   0.29683499  0.44446658 -0.18681382  0.44446658 -0.2112334   0.26835575  0.36122087 ... -0.78921339  0.44446658 -0.72267184  0.3897001   0.1704139  -1.03482315  0.12308034 -1.03482315  0.29683499 -0.93669893]\n",
      " [-0.85096314  0.45224731  0.48287267  0.44446658  0.87261218 -0.72183798  0.87261218 -0.344281    0.5263559   0.33178748 ... -1.11531595  0.87261218 -1.38842091  0.24989816 -0.15689065 -1.6006413   0.1037237  -1.6006413   0.44446658 -1.4694199 ]\n",
      " [ 0.82780576 -0.5570509  -0.27756002 -0.18681382 -0.72183798  1.06143072 -0.72183798  0.19269611 -0.43475377  0.2190429  ...  0.35490569 -0.72183798  1.10878784  0.46698285  0.77245189  0.76046022  0.09454897  0.76046022 -0.18681382  0.73223422]\n",
      " [-0.85096314  0.45224731  0.48287267  0.44446658  0.87261218 -0.72183798  0.87261218 -0.344281    0.5263559   0.33178748 ... -1.11531595  0.87261218 -1.38842091  0.24989816 -0.15689065 -1.6006413   0.1037237  -1.6006413   0.44446658 -1.4694199 ]\n",
      " [ 0.31116837 -0.14214227 -0.21468808 -0.2112334  -0.344281    0.19269611 -0.344281    0.15410084 -0.20779889 -0.22879133 ...  0.55264258 -0.344281    0.55567006 -0.23222584 -0.06557566  0.74331269 -0.07669633  0.74331269 -0.2112334   0.67560834]\n",
      " [-0.51312233  0.27253524  0.29143885  0.26835575  0.5263559  -0.43475377  0.5263559  -0.20779889  0.31749653  0.20082978 ... -0.67355557  0.5263559  -0.83754562  0.151689   -0.09372808 -0.96629595  0.06282041 -0.96629595  0.26835575 -0.88703033]\n",
      " [-0.1918929  -0.02249013  0.31314039  0.36122087  0.33178748  0.2190429   0.33178748 -0.22879133  0.20082978  0.65067764 ... -1.02745554  0.33178748 -0.57014264  0.81106872  0.6234146  -1.20764461  0.23112588 -1.20764461  0.36122087 -1.07237977]\n",
      " ...\n",
      " [ 0.93618694 -0.35435313 -0.76619375 -0.78921339 -1.11531595  0.35490569 -1.11531595  0.55264258 -0.67355557 -1.02745554 ...  2.11962954 -1.11531595  1.82317136 -1.14311336 -0.58523984  2.73494484 -0.35308079  2.73494484 -0.78921339  2.46901923]\n",
      " [-0.85096314  0.45224731  0.48287267  0.44446658  0.87261218 -0.72183798  0.87261218 -0.344281    0.5263559   0.33178748 ... -1.11531595  0.87261218 -1.38842091  0.24989816 -0.15689065 -1.6006413   0.1037237  -1.6006413   0.44446658 -1.4694199 ]\n",
      " [ 1.34337393 -0.70391871 -0.77873309 -0.72267184 -1.38842091  1.10878784 -1.38842091  0.55567006 -0.83754562 -0.57014264 ...  1.82317136 -1.38842091  2.21252912 -0.45526886  0.19463209  2.5950271  -0.18046964  2.5950271  -0.72267184  2.37936581]\n",
      " [-0.06395911 -0.13593139  0.31512695  0.3897001   0.24989816  0.46698285  0.24989816 -0.23222584  0.151689    0.81106872 ... -1.14311336  0.24989816 -0.45526886  1.04907981  0.88755657 -1.27617182  0.29138582 -1.27617182  0.3897001  -1.12204837]\n",
      " [ 0.32445814 -0.33452993  0.08187854  0.1704139  -0.15689065  0.77245189 -0.15689065 -0.06557566 -0.09372808  0.6234146  ... -0.58523984 -0.15689065  0.19463209  0.88755657  0.91774165 -0.49232551  0.23097871 -0.49232551  0.1704139  -0.40474241]\n",
      " [ 1.41056175 -0.60749187 -1.03368304 -1.03482315 -1.6006413   0.76046022 -1.6006413   0.74331269 -0.96629595 -1.20764461 ...  2.73494484 -1.6006413   2.5950271  -1.27617182 -0.49232551  3.62022207 -0.40918223  3.62022207 -1.03482315  3.28202121]\n",
      " [-0.05303401 -0.01730336  0.10473784  0.12308034  0.1037237   0.09454897  0.1037237  -0.07669633  0.06282041  0.23112588 ... -0.35308079  0.1037237  -0.18046964  0.29138582  0.23097871 -0.40918223  0.08238158 -0.40918223  0.12308034 -0.36238546]\n",
      " [ 1.41056175 -0.60749187 -1.03368304 -1.03482315 -1.6006413   0.76046022 -1.6006413   0.74331269 -0.96629595 -1.20764461 ...  2.73494484 -1.6006413   2.5950271  -1.27617182 -0.49232551  3.62022207 -0.40918223  3.62022207 -1.03482315  3.28202121]\n",
      " [-0.38518855  0.15909398  0.2934254   0.29683499  0.44446658 -0.18681382  0.44446658 -0.2112334   0.26835575  0.36122087 ... -0.78921339  0.44446658 -0.72267184  0.3897001   0.1704139  -1.03482315  0.12308034 -1.03482315  0.29683499 -0.93669893]\n",
      " [ 1.30402534 -0.5711318  -0.93998572 -0.93669893 -1.4694199   0.73223422 -1.4694199   0.67560834 -0.88703033 -1.07237977 ...  2.46901923 -1.4694199   2.37936581 -1.12204837 -0.40474241  3.28202121 -0.36238546  3.28202121 -0.93669893  2.97744815]]\n",
      "[[5. 1. 1. 1. 0. 3. 0. 2. 0. 0. ... 3. 0. 5. 1. 1. 5. 2. 5. 1. 5.]\n",
      " [1. 3. 0. 1. 1. 1. 1. 2. 1. 0. ... 3. 1. 1. 0. 0. 2. 1. 2. 1. 3.]\n",
      " [1. 0. 1. 0. 0. 0. 0. 1. 0. 0. ... 1. 0. 1. 0. 0. 1. 0. 1. 0. 1.]\n",
      " [1. 1. 0. 2. 1. 1. 1. 0. 1. 0. ... 2. 1. 1. 1. 1. 2. 2. 2. 2. 2.]\n",
      " [0. 1. 0. 1. 1. 0. 1. 0. 1. 0. ... 1. 1. 0. 0. 0. 1. 1. 1. 1. 1.]\n",
      " [3. 1. 0. 1. 0. 4. 0. 2. 0. 0. ... 3. 0. 3. 1. 2. 4. 1. 4. 1. 4.]\n",
      " [0. 1. 0. 1. 1. 0. 1. 0. 1. 0. ... 1. 1. 0. 0. 0. 1. 1. 1. 1. 1.]\n",
      " [2. 2. 1. 0. 0. 2. 0. 4. 0. 0. ... 4. 0. 2. 0. 1. 3. 0. 3. 0. 4.]\n",
      " [0. 1. 0. 1. 1. 0. 1. 0. 2. 1. ... 2. 1. 1. 0. 0. 2. 1. 2. 1. 2.]\n",
      " [0. 0. 0. 0. 0. 0. 0. 0. 1. 1. ... 1. 0. 1. 0. 0. 1. 0. 1. 0. 1.]\n",
      " ...\n",
      " [3. 3. 1. 2. 1. 3. 1. 4. 2. 1. ... 8. 1. 5. 1. 2. 7. 2. 7. 2. 7.]\n",
      " [0. 1. 0. 1. 1. 0. 1. 0. 1. 0. ... 1. 1. 0. 0. 0. 1. 1. 1. 1. 1.]\n",
      " [5. 1. 1. 1. 0. 3. 0. 2. 1. 1. ... 5. 0. 7. 1. 1. 7. 2. 7. 1. 6.]\n",
      " [1. 0. 0. 1. 0. 1. 0. 0. 0. 0. ... 1. 0. 1. 1. 1. 1. 1. 1. 1. 1.]\n",
      " [1. 0. 0. 1. 0. 2. 0. 1. 0. 0. ... 2. 0. 1. 1. 2. 2. 1. 2. 1. 2.]\n",
      " [5. 2. 1. 2. 1. 4. 1. 3. 2. 1. ... 7. 1. 7. 1. 2. 9. 3. 9. 2. 8.]\n",
      " [2. 1. 0. 2. 1. 1. 1. 0. 1. 0. ... 2. 1. 2. 1. 1. 3. 3. 3. 2. 3.]\n",
      " [5. 2. 1. 2. 1. 4. 1. 3. 2. 1. ... 7. 1. 7. 1. 2. 9. 3. 9. 2. 8.]\n",
      " [1. 1. 0. 2. 1. 1. 1. 0. 1. 0. ... 2. 1. 1. 1. 1. 2. 2. 2. 2. 2.]\n",
      " [5. 3. 1. 2. 1. 4. 1. 4. 2. 1. ... 7. 1. 6. 1. 2. 8. 3. 8. 2. 9.]]\n"
     ]
    }
   ],
   "source": [
    "# Write your code here\n",
    "reduced_matrix = np.matmul(pca_reduced_r, pca_reduced_r.T)\n",
    "print(reduced_matrix)\n",
    "r_matrix = np.matmul(r, r.T)\n",
    "print(r_matrix)\n",
    "pom = np.zeros_like(r_matrix)\n",
    "\n",
    "    for idx, user in orig_data.iterrows():\n",
    "        for idx2, user2 in reduced_data.iterrows():\n",
    "            pom[idx][idx2] = np.max(np.linalg.norm(orig[0] - orig[1]), 0.001) / np.linalg.norm(reduc[0] - reduc[1])\n",
    "\n",
    "# np.max(np.linalg.norm(orig[0] - orig[1]), 0.001) / np.linalg.norm(reduc[0] - reduc[1]) \n",
    "\n",
    "# def find_poorest_reduction(orig_data, reduced_data):\n",
    "#     for idx, user in orig_data.iterrows():\n",
    "#         for "
   ]
  },
  {
   "cell_type": "code",
   "execution_count": null,
   "id": "annoying-wildlife",
   "metadata": {},
   "outputs": [],
   "source": [
    "pca_user_id_1, pca_user_id_2 = find_poorest_reduction(r, pca_reduced_r)"
   ]
  },
  {
   "cell_type": "code",
   "execution_count": null,
   "id": "fancy-constant",
   "metadata": {},
   "outputs": [],
   "source": [
    "chosen_user_ids = [(pca_user_id_1, pca_user_id_2)]\n",
    "print_representations(chosen_user_ids, r, pca_reduced_r)"
   ]
  },
  {
   "cell_type": "markdown",
   "id": "arranged-white",
   "metadata": {},
   "source": [
    "Interpretation: if the original vectors for the chosen pair are far away from each other, then this means that the reduction properly kept distances between points which were far away in the original space. Otherwise, it means that the reduction lost an important piece of topological information from the original space."
   ]
  },
  {
   "cell_type": "markdown",
   "id": "republican-egyptian",
   "metadata": {},
   "source": [
    "## tSNE"
   ]
  },
  {
   "cell_type": "markdown",
   "id": "collected-texas",
   "metadata": {},
   "source": [
    "**Task 3.** Apply tSNE to the rows (user representations) of the interaction matrix into two dimensions. Use sklearn.manifold.TSNE (with init='pca'). Set the transformed rows to the tsne_reduced_r variable."
   ]
  },
  {
   "cell_type": "code",
   "execution_count": 47,
   "id": "signal-orchestra",
   "metadata": {},
   "outputs": [],
   "source": [
    "# Write your code here\n",
    "from sklearn.manifold import TSNE\n",
    "\n",
    "tsne = TSNE(n_components=2, init='pca')\n",
    "tsne_reduced_r = tsne.fit_transform(r)"
   ]
  },
  {
   "cell_type": "markdown",
   "id": "mexican-interaction",
   "metadata": {},
   "source": [
    "### Plot the reduced data"
   ]
  },
  {
   "cell_type": "code",
   "execution_count": 48,
   "id": "alternate-romantic",
   "metadata": {},
   "outputs": [
    {
     "data": {
      "image/png": "[encoded data removed]",
      "text/plain": [
       "<Figure size 1152x648 with 1 Axes>"
      ]
     },
     "metadata": {
      "needs_background": "light"
     },
     "output_type": "display_data"
    }
   ],
   "source": [
    "plot_unique_datapoints_2d(tsne_reduced_r, tolerance=0.1)"
   ]
  },
  {
   "cell_type": "markdown",
   "id": "frozen-creek",
   "metadata": {},
   "source": [
    "### Print tSNE representations for chosen pairs of users close on the PCA graph"
   ]
  },
  {
   "cell_type": "code",
   "execution_count": 39,
   "id": "restricted-satellite",
   "metadata": {},
   "outputs": [
    {
     "name": "stdout",
     "output_type": "stream",
     "text": [
      "User 0 full representation and reduced representation\n",
      "[1. 1. 1. 1. 1. 0. 0. 0. 0. 0.]\n",
      "[ 4.1111813 17.915693 ]\n",
      "\n",
      "User 16 full representation and reduced representation\n",
      "[1. 0. 1. 1. 1. 0. 0. 0. 0. 1.]\n",
      "[-2.8177395 11.576548 ]\n",
      "\n",
      "==============================\n",
      "User 133 full representation and reduced representation\n",
      "[0. 0. 0. 0. 0. 0. 1. 0. 0. 0.]\n",
      "[  8.303495 -13.4685  ]\n",
      "\n",
      "User 52 full representation and reduced representation\n",
      "[0. 1. 0. 0. 0. 0. 0. 0. 0. 0.]\n",
      "[  5.9234004 -11.219496 ]\n",
      "\n",
      "==============================\n",
      "User 75 full representation and reduced representation\n",
      "[1. 0. 1. 0. 1. 0. 0. 1. 1. 0.]\n",
      "[-7.7500815   0.44708735]\n",
      "\n",
      "User 159 full representation and reduced representation\n",
      "[1. 0. 1. 0. 1. 0. 0. 1. 0. 1.]\n",
      "[-3.3457055 12.198665 ]\n",
      "\n",
      "==============================\n",
      "User 279 full representation and reduced representation\n",
      "[0. 0. 0. 1. 1. 1. 1. 0. 0. 1.]\n",
      "[1.0286694 8.000443 ]\n",
      "\n",
      "User 346 full representation and reduced representation\n",
      "[0. 0. 0. 1. 1. 1. 0. 0. 0. 1.]\n",
      "[2.1251397 7.394632 ]\n",
      "\n",
      "==============================\n",
      "User 15 full representation and reduced representation\n",
      "[1. 1. 1. 1. 1. 1. 1. 1. 1. 1.]\n",
      "[ 0.09615579 23.361073  ]\n",
      "\n",
      "User 61 full representation and reduced representation\n",
      "[1. 1. 1. 1. 1. 1. 0. 1. 1. 1.]\n",
      "[ 0.9902074 21.98845  ]\n",
      "\n",
      "==============================\n"
     ]
    }
   ],
   "source": [
    "chosen_user_ids = [(0, 16), (133, 52), (75, 159), (279, 346), (15, 61)]\n",
    "print_representations(chosen_user_ids, r, tsne_reduced_r)"
   ]
  },
  {
   "cell_type": "markdown",
   "id": "empty-defense",
   "metadata": {},
   "source": [
    "### Print tSNE representations for chosen pairs of users close on the tSNE graph\n",
    "\n",
    "Notice that those clusters of points represent points with exactly the same interaction vector. In PCA they were mapped into the same point, but tSNE separates all points."
   ]
  },
  {
   "cell_type": "code",
   "execution_count": 40,
   "id": "cheap-conjunction",
   "metadata": {},
   "outputs": [
    {
     "name": "stdout",
     "output_type": "stream",
     "text": [
      "User 81 full representation and reduced representation\n",
      "[1. 0. 0. 0. 0. 0. 0. 0. 0. 0.]\n",
      "[-17.655764   -6.1555915]\n",
      "\n",
      "User 39 full representation and reduced representation\n",
      "[1. 0. 0. 0. 0. 0. 0. 0. 0. 0.]\n",
      "[-18.069803   -6.8671246]\n",
      "\n",
      "User 120 full representation and reduced representation\n",
      "[1. 0. 0. 0. 0. 0. 0. 0. 0. 0.]\n",
      "[-16.88304   -6.634788]\n",
      "\n",
      "User 101 full representation and reduced representation\n",
      "[1. 0. 0. 0. 0. 0. 1. 0. 0. 0.]\n",
      "[-19.402433  -3.913634]\n",
      "\n",
      "==============================\n",
      "User 11 full representation and reduced representation\n",
      "[0. 0. 0. 0. 0. 1. 0. 0. 0. 0.]\n",
      "[ 11.019438 -18.652185]\n",
      "\n",
      "User 49 full representation and reduced representation\n",
      "[0. 0. 0. 0. 0. 1. 0. 0. 0. 0.]\n",
      "[ 11.808505 -16.281946]\n",
      "\n",
      "User 288 full representation and reduced representation\n",
      "[0. 0. 0. 0. 0. 1. 0. 0. 0. 0.]\n",
      "[ 11.2088375 -18.047634 ]\n",
      "\n",
      "User 378 full representation and reduced representation\n",
      "[0. 1. 0. 0. 0. 1. 0. 0. 0. 0.]\n",
      "[  9.244785 -16.265873]\n",
      "\n",
      "==============================\n",
      "User 14 full representation and reduced representation\n",
      "[1. 0. 0. 1. 0. 1. 0. 0. 0. 1.]\n",
      "[-2.8866696  6.461524 ]\n",
      "\n",
      "User 329 full representation and reduced representation\n",
      "[1. 0. 0. 1. 0. 1. 1. 0. 0. 1.]\n",
      "[-2.0399349  7.052188 ]\n",
      "\n",
      "==============================\n",
      "User 150 full representation and reduced representation\n",
      "[0. 0. 0. 0. 0. 1. 0. 0. 0. 0.]\n",
      "[ 13.8723 -16.851 ]\n",
      "\n",
      "User 127 full representation and reduced representation\n",
      "[1. 0. 1. 1. 1. 0. 0. 1. 0. 1.]\n",
      "[-3.092618 12.161119]\n",
      "\n",
      "User 148 full representation and reduced representation\n",
      "[1. 1. 1. 0. 0. 1. 0. 0. 0. 1.]\n",
      "[-8.870049 10.552464]\n",
      "\n",
      "==============================\n"
     ]
    }
   ],
   "source": [
    "chosen_user_ids = [(81, 39, 120, 101), (11, 49, 288, 378), (14, 329), (150, 127, 148)]\n",
    "print_representations(chosen_user_ids, r, tsne_reduced_r)"
   ]
  },
  {
   "cell_type": "markdown",
   "id": "traditional-flood",
   "metadata": {},
   "source": [
    "### Topology of distant datapoints"
   ]
  },
  {
   "cell_type": "markdown",
   "id": "expressed-zealand",
   "metadata": {},
   "source": [
    "**Task 4.** Find the pair of user ids with the highest discrepancy for the tSNE reduction and set those ids to tsne_user_id_1 and tsne_user_id_2."
   ]
  },
  {
   "cell_type": "code",
   "execution_count": null,
   "id": "fundamental-arnold",
   "metadata": {},
   "outputs": [],
   "source": [
    "# Write your code here"
   ]
  },
  {
   "cell_type": "code",
   "execution_count": null,
   "id": "electrical-aircraft",
   "metadata": {},
   "outputs": [],
   "source": [
    "chosen_user_ids = [(tsne_user_id_1, tsne_user_id_2)]\n",
    "print_representations(chosen_user_ids, r, tsne_reduced_r)"
   ]
  },
  {
   "cell_type": "markdown",
   "id": "practical-characteristic",
   "metadata": {},
   "source": [
    "# Matrix factorization"
   ]
  },
  {
   "cell_type": "markdown",
   "id": "elect-season",
   "metadata": {},
   "source": [
    "## SVD (Singular Value Decomposition)"
   ]
  },
  {
   "cell_type": "markdown",
   "id": "geographic-emphasis",
   "metadata": {},
   "source": [
    "**Task 5.** Implement a method for performing SVD for an arbitrary matrix and returning the two submatrices corresponding to the $k$ biggest eigenvalues - the matrix consisting of the $k$ first columns of $P$ multiplied by the matrix consisting of the first $k$ rows and columns of $\\Sigma$ (that's the first matrix in decomposition), the matrix consisting of the first $k$ columns of $Q$ (compare the lecture). For $k$ equal to None return the full decomposition. Return a tuple with both resulting matrices. \n",
    "\n",
    "Use numpy.linalg.svd to perform SVD. Note that this method does not return a diagonal matrix as the second matrix, but only a vector of singular values. To perform the matrix multiplication as suggested in the lecture you have to transform it into a diagonal matrix (for instance with np.diag). Note also that the $Q$ matrix returned by this method is already transposed (you have to revert the transposition). To make the calculations easier you can use this method with full_matrices=False. It will cut the matrices to the sizes $m \\text{x} k$, $k \\text{x} k$, $k \\text{x} n$, where $m$ is the number of rows in the original matrix, $k$ is the number of non-zero eigenvalues, $n$ is the number of columns in the original matrix.\n",
    "\n",
    "The interface of the method should have the following form:\n",
    "\n",
    "    perform_svd(r, k=None)\n",
    "\n",
    "To test the method decompose the matrix defined in the cell below for the following values of $k$: None, 6, 5, 4, 3, 2, 1, and then reconstruct the original matrix by multiplying the matrices from the decomposition. For every $k$ calculate and print the element-wise difference between the original matrix and the matrix retrieved from the decomposition and calculate and print the Euclidean distance between the matrices (take the the square of every element in the difference matrix, sum them up and take the square root - that's the same formula as for RMSE). You can also print the decomposition for every $k$ to see how it looks like.\n",
    "\n",
    "Compare the decomposition given in the lecture with the one given by your method for $k = 2$ and compare the reconstructed matrices distance to the original. Which decomposition is better (i.e. gives a closer approximation)?"
   ]
  },
  {
   "cell_type": "code",
   "execution_count": null,
   "id": "analyzed-walter",
   "metadata": {},
   "outputs": [],
   "source": [
    "r_aggarwal = [\n",
    "    [1, 1, 1, 0, 0, 0],\n",
    "    [1, 1, 1, 0, 0, 0],\n",
    "    [1, 1, 1, 0, 0, 0],\n",
    "    [1, 1, 1, 1, 1, 1],\n",
    "    [-1, -1, -1, 1, 1, 1],\n",
    "    [-1, -1, 1, 1, 1, 1],\n",
    "    [-1, -1, -1, 1, 1, 1],\n",
    "]\n",
    "\n",
    "# Write your code here"
   ]
  },
  {
   "cell_type": "code",
   "execution_count": null,
   "id": "boxed-fleet",
   "metadata": {
    "scrolled": false
   },
   "outputs": [],
   "source": [
    "# Test the method\n",
    "\n",
    "# Write your code here"
   ]
  },
  {
   "cell_type": "markdown",
   "id": "varied-edition",
   "metadata": {},
   "source": [
    "## Application of the SVD decomposition to obtain 2D representation of users for the movielens dataset subset"
   ]
  },
  {
   "cell_type": "code",
   "execution_count": null,
   "id": "improved-horizontal",
   "metadata": {},
   "outputs": [],
   "source": [
    "svd_reduced_r, _ = perform_svd(r, k=2)"
   ]
  },
  {
   "cell_type": "markdown",
   "id": "knowing-alloy",
   "metadata": {},
   "source": [
    "### Plot the reduced data"
   ]
  },
  {
   "cell_type": "code",
   "execution_count": null,
   "id": "downtown-interim",
   "metadata": {},
   "outputs": [],
   "source": [
    "plot_unique_datapoints_2d(svd_reduced_r, tolerance=0.1)"
   ]
  },
  {
   "cell_type": "markdown",
   "id": "twelve-synthesis",
   "metadata": {},
   "source": [
    "### Print representations for chosen pairs of users close on the graph"
   ]
  },
  {
   "cell_type": "code",
   "execution_count": null,
   "id": "smart-distinction",
   "metadata": {},
   "outputs": [],
   "source": [
    "chosen_user_ids = [(15, 61, 213), (65, 26, 4), (413, 304), (86, 320, 505), (43, 52, 133)]\n",
    "print_representations(chosen_user_ids, r, svd_reduced_r)"
   ]
  },
  {
   "cell_type": "markdown",
   "id": "eligible-mauritius",
   "metadata": {},
   "source": [
    "### Topology of distant datapoints"
   ]
  },
  {
   "cell_type": "code",
   "execution_count": null,
   "id": "amateur-minute",
   "metadata": {},
   "outputs": [],
   "source": [
    "svd_user_id_1, svd_user_id_2 = find_poorest_reduction(r, svd_reduced_r)"
   ]
  },
  {
   "cell_type": "code",
   "execution_count": null,
   "id": "elegant-spring",
   "metadata": {},
   "outputs": [],
   "source": [
    "chosen_user_ids = [(svd_user_id_1, svd_user_id_2)]\n",
    "print_representations(chosen_user_ids, r, svd_reduced_r)"
   ]
  },
  {
   "cell_type": "markdown",
   "id": "familiar-hacker",
   "metadata": {},
   "source": [
    "# Optimization"
   ]
  },
  {
   "cell_type": "markdown",
   "id": "indirect-tiger",
   "metadata": {},
   "source": [
    "**Task 6.** Write a method perform_sgd for performing n_steps of stochastic gradient descent (SGD) for a given alpha for a linear fit to a 2D dataset. The method should return a tuple of fitted theta_0 and theta_1. Write all the updating formulas yourself.\n",
    "\n",
    "The interface of the method should be as follows:\n",
    "    \n",
    "    perform_sgd(data, theta_0_init, theta_1_init, n_steps, alpha)\n",
    "    \n",
    "Test several initial pairs of theta_0 and theta_1, and several values of n_steps and alpha. Does the method always converge to the same solution?\n",
    "\n",
    "You can also compare your solution to the optimal one found by sklearn.linear_model.LinearRegression.\n",
    "    \n",
    "Plot the data (as scatterplot) and the fit (as lineplot) on a single seaborn chart."
   ]
  },
  {
   "cell_type": "code",
   "execution_count": null,
   "id": "super-timer",
   "metadata": {},
   "outputs": [],
   "source": [
    "data = np.array([\n",
    "    [0.2, 0.52],\n",
    "    [0.5, 1.36],\n",
    "    [0.9, 1.00],\n",
    "    [1.3, 1.69],\n",
    "    [1.5, 2.58],\n",
    "    [2.8, 2.34]\n",
    "])\n",
    "\n",
    "# Write your code here"
   ]
  },
  {
   "cell_type": "code",
   "execution_count": null,
   "id": "realistic-conjunction",
   "metadata": {},
   "outputs": [],
   "source": []
  }
 ],
 "metadata": {
  "kernelspec": {
   "display_name": "Python 3 (ipykernel)",
   "language": "python",
   "name": "python3"
  },
  "language_info": {
   "codemirror_mode": {
    "name": "ipython",
    "version": 3
   },
   "file_extension": ".py",
   "mimetype": "text/x-python",
   "name": "python",
   "nbconvert_exporter": "python",
   "pygments_lexer": "ipython3",
   "version": "3.8.10"
  }
 },
 "nbformat": 4,
 "nbformat_minor": 5
}
